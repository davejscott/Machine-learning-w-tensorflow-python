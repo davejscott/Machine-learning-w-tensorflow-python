{
 "cells": [
  {
   "cell_type": "code",
   "execution_count": 1,
   "metadata": {},
   "outputs": [],
   "source": [
    "import tensorflow as tf"
   ]
  },
  {
   "cell_type": "code",
   "execution_count": 2,
   "metadata": {},
   "outputs": [
    {
     "name": "stdout",
     "output_type": "stream",
     "text": [
      "WARNING:tensorflow:From /Users/davescott/anaconda3/lib/python3.7/site-packages/tensorflow/python/framework/op_def_library.py:263: colocate_with (from tensorflow.python.framework.ops) is deprecated and will be removed in a future version.\n",
      "Instructions for updating:\n",
      "Colocations handled automatically by placer.\n"
     ]
    }
   ],
   "source": [
    "x = tf.Variable(3, name=\"x\")\n",
    "y = tf.Variable(4, name=\"y\")\n",
    "f = x*x*y + y + 2"
   ]
  },
  {
   "cell_type": "code",
   "execution_count": 3,
   "metadata": {},
   "outputs": [
    {
     "name": "stdout",
     "output_type": "stream",
     "text": [
      "42\n"
     ]
    }
   ],
   "source": [
    "sess = tf.Session()\n",
    "sess.run(x.initializer)\n",
    "sess.run(y.initializer)\n",
    "result = sess.run(f)\n",
    "print(result)"
   ]
  },
  {
   "cell_type": "code",
   "execution_count": 4,
   "metadata": {},
   "outputs": [],
   "source": [
    "sess.close()"
   ]
  },
  {
   "cell_type": "markdown",
   "metadata": {},
   "source": [
    "## A more efficient way to having to repeat sess.run() is to do the following"
   ]
  },
  {
   "cell_type": "code",
   "execution_count": 5,
   "metadata": {},
   "outputs": [],
   "source": [
    "with tf.Session() as sess:\n",
    "    x.initializer.run()\n",
    "    y.initializer.run()\n",
    "    result = f.eval()"
   ]
  },
  {
   "cell_type": "code",
   "execution_count": 6,
   "metadata": {},
   "outputs": [],
   "source": [
    "init = tf.global_variables_initializer() #prepare an init node"
   ]
  },
  {
   "cell_type": "code",
   "execution_count": 7,
   "metadata": {},
   "outputs": [],
   "source": [
    "with tf.Session() as sess:\n",
    "    init.run() # initialize all variables\n",
    "    result = f.eval()"
   ]
  },
  {
   "cell_type": "code",
   "execution_count": 8,
   "metadata": {},
   "outputs": [
    {
     "name": "stdout",
     "output_type": "stream",
     "text": [
      "42\n"
     ]
    }
   ],
   "source": [
    "sess = tf.InteractiveSession()\n",
    "init.run()\n",
    "result = f.eval()\n",
    "print(result)"
   ]
  },
  {
   "cell_type": "code",
   "execution_count": 9,
   "metadata": {},
   "outputs": [
    {
     "data": {
      "text/plain": [
       "True"
      ]
     },
     "execution_count": 9,
     "metadata": {},
     "output_type": "execute_result"
    }
   ],
   "source": [
    "x1 = tf.Variable(1)\n",
    "x1.graph is tf.get_default_graph()"
   ]
  },
  {
   "cell_type": "markdown",
   "metadata": {},
   "source": [
    "#### Any time a node is created it gets added to the graph. In order to combat and manage this it is possible to create a new graph and temporarily make it the default graph within a block"
   ]
  },
  {
   "cell_type": "code",
   "execution_count": 10,
   "metadata": {},
   "outputs": [
    {
     "data": {
      "text/plain": [
       "True"
      ]
     },
     "execution_count": 10,
     "metadata": {},
     "output_type": "execute_result"
    }
   ],
   "source": [
    "graph = tf.Graph()\n",
    "with graph.as_default():\n",
    "    x2 = tf.Variable(2)\n",
    "    \n",
    "x2.graph is graph"
   ]
  },
  {
   "cell_type": "code",
   "execution_count": 11,
   "metadata": {},
   "outputs": [
    {
     "data": {
      "text/plain": [
       "False"
      ]
     },
     "execution_count": 11,
     "metadata": {},
     "output_type": "execute_result"
    }
   ],
   "source": [
    "x2.graph is tf.get_default_graph()"
   ]
  },
  {
   "cell_type": "markdown",
   "metadata": {},
   "source": [
    "### While troubleshooting or coding our graphs, we may run into a case with many overlapping nodes and issues. \n",
    "\n",
    "#### In order to correct this we may take advantage of tf.reset_default_graph()"
   ]
  },
  {
   "cell_type": "code",
   "execution_count": 12,
   "metadata": {},
   "outputs": [],
   "source": [
    "tf.reset_default_graph()"
   ]
  },
  {
   "cell_type": "markdown",
   "metadata": {},
   "source": [
    "### In the following code below, x and w will both be evaluated twice for y, and z."
   ]
  },
  {
   "cell_type": "code",
   "execution_count": 13,
   "metadata": {},
   "outputs": [
    {
     "name": "stdout",
     "output_type": "stream",
     "text": [
      "10\n",
      "16\n"
     ]
    }
   ],
   "source": [
    "w = tf.constant(3)\n",
    "x = w + 1\n",
    "y = x + 6\n",
    "z = x * 4\n",
    "\n",
    "with tf.Session() as sess:\n",
    "    print(y.eval()) \n",
    "    print(z.eval())"
   ]
  },
  {
   "cell_type": "markdown",
   "metadata": {},
   "source": [
    "## Say if we only want to evaluate x and w once, we may do so in just one graph. "
   ]
  },
  {
   "cell_type": "code",
   "execution_count": 14,
   "metadata": {},
   "outputs": [
    {
     "name": "stdout",
     "output_type": "stream",
     "text": [
      "10\n",
      "16\n"
     ]
    }
   ],
   "source": [
    "with tf.Session() as sess:\n",
    "    y_val, z_val = sess.run([y, z])\n",
    "    print(y.eval()) \n",
    "    print(z.eval())"
   ]
  },
  {
   "cell_type": "markdown",
   "metadata": {},
   "source": [
    "### Utilizing tensorflow for more than a scalar vector....\n",
    "#### Let's do some computations"
   ]
  },
  {
   "cell_type": "code",
   "execution_count": 15,
   "metadata": {},
   "outputs": [],
   "source": [
    "import numpy as np\n",
    "from sklearn.datasets import fetch_california_housing"
   ]
  },
  {
   "cell_type": "code",
   "execution_count": 16,
   "metadata": {},
   "outputs": [],
   "source": [
    "housing = fetch_california_housing()\n",
    "m, n = housing.data.shape\n",
    "housing_data_plus_bias = np.c_[np.ones((m, 1)), housing.data]"
   ]
  },
  {
   "cell_type": "code",
   "execution_count": 17,
   "metadata": {},
   "outputs": [
    {
     "name": "stdout",
     "output_type": "stream",
     "text": [
      "[[-3.6959320e+01]\n",
      " [ 4.3698898e-01]\n",
      " [ 9.4245886e-03]\n",
      " [-1.0791138e-01]\n",
      " [ 6.4842808e-01]\n",
      " [-3.9986235e-06]\n",
      " [-3.7866351e-03]\n",
      " [-4.2142656e-01]\n",
      " [-4.3467718e-01]]\n"
     ]
    }
   ],
   "source": [
    "X = tf.constant(housing_data_plus_bias, dtype=tf.float32, name=\"X\")\n",
    "y = tf.constant(housing.target.reshape(-1, 1), dtype=tf.float32, name=\"y\")\n",
    "XT = tf.transpose(X)\n",
    "theta = tf.matmul(tf.matmul(tf.matrix_inverse(tf.matmul(XT, X)), XT), y)\n",
    "\n",
    "with tf.Session() as sess:\n",
    "    theta_value = theta.eval()\n",
    "    print(theta_value)"
   ]
  },
  {
   "cell_type": "markdown",
   "metadata": {},
   "source": [
    "## Above the normal equation was utilized in order to calculate theta.\n",
    "\n",
    "## Instead, let's implement gradient descent to calculate theta for us."
   ]
  },
  {
   "cell_type": "markdown",
   "metadata": {},
   "source": [
    "### Recall for gradient descent that data normalization needs to be undertaken before we work with the data. Otherwise training will take much more time."
   ]
  },
  {
   "cell_type": "code",
   "execution_count": 18,
   "metadata": {},
   "outputs": [],
   "source": [
    "from sklearn.preprocessing import StandardScaler\n",
    "scaler = StandardScaler()\n",
    "scaler.fit(housing_data_plus_bias)\n",
    "scaled_housing_data_plus_bias = scaler.transform(housing_data_plus_bias)"
   ]
  },
  {
   "cell_type": "code",
   "execution_count": 19,
   "metadata": {},
   "outputs": [],
   "source": [
    "n_epochs = 5000\n",
    "learning_rate = 0.01"
   ]
  },
  {
   "cell_type": "code",
   "execution_count": 20,
   "metadata": {},
   "outputs": [
    {
     "name": "stdout",
     "output_type": "stream",
     "text": [
      "Epoch 0 MSE = 10.156375\n",
      "Epoch 100 MSE = 5.0488753\n",
      "Epoch 200 MSE = 4.9619884\n",
      "Epoch 300 MSE = 4.9203467\n",
      "Epoch 400 MSE = 4.890257\n",
      "Epoch 500 MSE = 4.868146\n",
      "Epoch 600 MSE = 4.8518395\n",
      "Epoch 700 MSE = 4.839782\n",
      "Epoch 800 MSE = 4.830838\n",
      "Epoch 900 MSE = 4.8241796\n",
      "Epoch 1000 MSE = 4.8192058\n",
      "Epoch 1100 MSE = 4.8154745\n",
      "Epoch 1200 MSE = 4.8126645\n",
      "Epoch 1300 MSE = 4.810539\n",
      "Epoch 1400 MSE = 4.8089213\n",
      "Epoch 1500 MSE = 4.8076863\n",
      "Epoch 1600 MSE = 4.8067384\n",
      "Epoch 1700 MSE = 4.8060064\n",
      "Epoch 1800 MSE = 4.8054385\n",
      "Epoch 1900 MSE = 4.8049965\n",
      "Epoch 2000 MSE = 4.804648\n",
      "Epoch 2100 MSE = 4.8043747\n",
      "Epoch 2200 MSE = 4.804159\n",
      "Epoch 2300 MSE = 4.803987\n",
      "Epoch 2400 MSE = 4.8038487\n",
      "Epoch 2500 MSE = 4.803739\n",
      "Epoch 2600 MSE = 4.8036494\n",
      "Epoch 2700 MSE = 4.8035784\n",
      "Epoch 2800 MSE = 4.8035197\n",
      "Epoch 2900 MSE = 4.8034725\n",
      "Epoch 3000 MSE = 4.8034344\n",
      "Epoch 3100 MSE = 4.8034024\n",
      "Epoch 3200 MSE = 4.803376\n",
      "Epoch 3300 MSE = 4.8033557\n",
      "Epoch 3400 MSE = 4.8033376\n",
      "Epoch 3500 MSE = 4.803323\n",
      "Epoch 3600 MSE = 4.803312\n",
      "Epoch 3700 MSE = 4.8033023\n",
      "Epoch 3800 MSE = 4.803294\n",
      "Epoch 3900 MSE = 4.803287\n",
      "Epoch 4000 MSE = 4.8032813\n",
      "Epoch 4100 MSE = 4.8032765\n",
      "Epoch 4200 MSE = 4.8032727\n",
      "Epoch 4300 MSE = 4.8032694\n",
      "Epoch 4400 MSE = 4.803267\n",
      "Epoch 4500 MSE = 4.803265\n",
      "Epoch 4600 MSE = 4.8032637\n",
      "Epoch 4700 MSE = 4.8032613\n",
      "Epoch 4800 MSE = 4.80326\n",
      "Epoch 4900 MSE = 4.8032594\n"
     ]
    }
   ],
   "source": [
    "X = tf.constant(scaled_housing_data_plus_bias, dtype=tf.float32, name=\"X\")\n",
    "y = tf.constant(housing.target.reshape(-1, 1), dtype=tf.float32, name=\"y\")\n",
    "theta = tf.Variable(tf.random_uniform([n + 1, 1], -1.0, 1.0), name=\"theta\")\n",
    "y_pred = tf.matmul(X, theta, name=\"predictions\")\n",
    "error = y_pred - y\n",
    "mse = tf.reduce_mean(tf.square(error), name=\"mse\")\n",
    "gradients = 2/m * tf.matmul(tf.transpose(X), error)\n",
    "training_op = tf.assign(theta, theta - learning_rate * gradients)\n",
    "\n",
    "init = tf.global_variables_initializer()\n",
    "\n",
    "with tf.Session() as sess:\n",
    "    sess.run(init)\n",
    "    \n",
    "    for epoch in range(n_epochs):\n",
    "        if epoch % 100 == 0:\n",
    "            print(\"Epoch\", epoch, \"MSE =\", mse.eval())\n",
    "        sess.run(training_op)\n",
    "    best_theta = theta.eval()"
   ]
  },
  {
   "cell_type": "markdown",
   "metadata": {},
   "source": [
    "### A good solution is found well before many iterations are ran."
   ]
  },
  {
   "cell_type": "markdown",
   "metadata": {},
   "source": [
    "## Unfortunately, manually inputting gradients for every line in a tensorflow calculation is extremely tedious. \n",
    "### Instead we may take advantage of the autodiff approach, which utilizes a reverse-mode autodiff, which AUTOMATICALLY and EFFICIENTLY computes gradients. \n",
    "\n",
    "# Sounds like a dream for an engineer who loves efficiency :)"
   ]
  },
  {
   "cell_type": "code",
   "execution_count": 21,
   "metadata": {},
   "outputs": [
    {
     "name": "stdout",
     "output_type": "stream",
     "text": [
      "Epoch 0 MSE = 12.4902115\n",
      "Epoch 100 MSE = 4.960502\n",
      "Epoch 200 MSE = 4.8838835\n",
      "Epoch 300 MSE = 4.863715\n",
      "Epoch 400 MSE = 4.84939\n",
      "Epoch 500 MSE = 4.838655\n",
      "Epoch 600 MSE = 4.830559\n",
      "Epoch 700 MSE = 4.824424\n",
      "Epoch 800 MSE = 4.819753\n",
      "Epoch 900 MSE = 4.8161793\n",
      "Epoch 1000 MSE = 4.81343\n",
      "Epoch 1100 MSE = 4.8113055\n",
      "Epoch 1200 MSE = 4.8096538\n",
      "Epoch 1300 MSE = 4.8083634\n",
      "Epoch 1400 MSE = 4.8073516\n",
      "Epoch 1500 MSE = 4.8065515\n",
      "Epoch 1600 MSE = 4.8059187\n",
      "Epoch 1700 MSE = 4.805414\n",
      "Epoch 1800 MSE = 4.80501\n",
      "Epoch 1900 MSE = 4.804685\n",
      "Epoch 2000 MSE = 4.804425\n",
      "Epoch 2100 MSE = 4.804213\n",
      "Epoch 2200 MSE = 4.804041\n",
      "Epoch 2300 MSE = 4.8039007\n",
      "Epoch 2400 MSE = 4.803787\n",
      "Epoch 2500 MSE = 4.8036942\n",
      "Epoch 2600 MSE = 4.803617\n",
      "Epoch 2700 MSE = 4.803554\n",
      "Epoch 2800 MSE = 4.803503\n",
      "Epoch 2900 MSE = 4.80346\n",
      "Epoch 3000 MSE = 4.803425\n",
      "Epoch 3100 MSE = 4.8033953\n",
      "Epoch 3200 MSE = 4.803372\n",
      "Epoch 3300 MSE = 4.803352\n",
      "Epoch 3400 MSE = 4.803335\n",
      "Epoch 3500 MSE = 4.803321\n",
      "Epoch 3600 MSE = 4.80331\n",
      "Epoch 3700 MSE = 4.8033\n",
      "Epoch 3800 MSE = 4.8032923\n",
      "Epoch 3900 MSE = 4.8032856\n",
      "Epoch 4000 MSE = 4.803281\n",
      "Epoch 4100 MSE = 4.8032756\n",
      "Epoch 4200 MSE = 4.8032722\n",
      "Epoch 4300 MSE = 4.80327\n",
      "Epoch 4400 MSE = 4.803267\n",
      "Epoch 4500 MSE = 4.803265\n",
      "Epoch 4600 MSE = 4.8032627\n",
      "Epoch 4700 MSE = 4.8032613\n",
      "Epoch 4800 MSE = 4.803261\n",
      "Epoch 4900 MSE = 4.803259\n"
     ]
    }
   ],
   "source": [
    "X = tf.constant(scaled_housing_data_plus_bias, dtype=tf.float32, name=\"X\")\n",
    "y = tf.constant(housing.target.reshape(-1, 1), dtype=tf.float32, name=\"y\")\n",
    "theta = tf.Variable(tf.random_uniform([n + 1, 1], -1.0, 1.0), name=\"theta\")\n",
    "y_pred = tf.matmul(X, theta, name=\"predictions\")\n",
    "error = y_pred - y\n",
    "mse = tf.reduce_mean(tf.square(error), name=\"mse\")\n",
    "gradients = tf.gradients(mse, [theta])[0]\n",
    "training_op = tf.assign(theta, theta - learning_rate * gradients)\n",
    "\n",
    "init = tf.global_variables_initializer()\n",
    "\n",
    "with tf.Session() as sess:\n",
    "    sess.run(init)\n",
    "    \n",
    "    for epoch in range(n_epochs):\n",
    "        if epoch % 100 == 0:\n",
    "            print(\"Epoch\", epoch, \"MSE =\", mse.eval())\n",
    "        sess.run(training_op)\n",
    "    best_theta = theta.eval()"
   ]
  },
  {
   "cell_type": "markdown",
   "metadata": {},
   "source": [
    "## Simply replace the manual calculation of gradients line for the line\n",
    "\n",
    "### gradients = tf.gradients(mse, [theta])[0]"
   ]
  },
  {
   "cell_type": "markdown",
   "metadata": {},
   "source": [
    "# To make things EVEN BETTER tensorflow has built in optimizers, even one for gradient descent. Yep. Making things that much better.\n",
    "\n",
    "## we may go and make adjustments to the prior code with a simple optimizer replace training_op"
   ]
  },
  {
   "cell_type": "code",
   "execution_count": 22,
   "metadata": {},
   "outputs": [
    {
     "name": "stdout",
     "output_type": "stream",
     "text": [
      "Epoch 0 MSE = 8.316429\n",
      "Epoch 100 MSE = 4.934683\n",
      "Epoch 200 MSE = 4.868843\n",
      "Epoch 300 MSE = 4.8524013\n",
      "Epoch 400 MSE = 4.8406763\n",
      "Epoch 500 MSE = 4.831898\n",
      "Epoch 600 MSE = 4.825293\n",
      "Epoch 700 MSE = 4.820297\n",
      "Epoch 800 MSE = 4.816504\n",
      "Epoch 900 MSE = 4.813606\n",
      "Epoch 1000 MSE = 4.811385\n",
      "Epoch 1100 MSE = 4.8096714\n",
      "Epoch 1200 MSE = 4.8083444\n",
      "Epoch 1300 MSE = 4.8073096\n",
      "Epoch 1400 MSE = 4.8065\n",
      "Epoch 1500 MSE = 4.805862\n",
      "Epoch 1600 MSE = 4.8053565\n",
      "Epoch 1700 MSE = 4.804956\n",
      "Epoch 1800 MSE = 4.804635\n",
      "Epoch 1900 MSE = 4.804379\n",
      "Epoch 2000 MSE = 4.804173\n",
      "Epoch 2100 MSE = 4.8040056\n",
      "Epoch 2200 MSE = 4.8038707\n",
      "Epoch 2300 MSE = 4.80376\n",
      "Epoch 2400 MSE = 4.8036704\n",
      "Epoch 2500 MSE = 4.8035975\n",
      "Epoch 2600 MSE = 4.803538\n",
      "Epoch 2700 MSE = 4.803489\n",
      "Epoch 2800 MSE = 4.803449\n",
      "Epoch 2900 MSE = 4.803415\n",
      "Epoch 3000 MSE = 4.803387\n",
      "Epoch 3100 MSE = 4.8033648\n",
      "Epoch 3200 MSE = 4.803345\n",
      "Epoch 3300 MSE = 4.80333\n",
      "Epoch 3400 MSE = 4.803316\n",
      "Epoch 3500 MSE = 4.8033066\n",
      "Epoch 3600 MSE = 4.8032975\n",
      "Epoch 3700 MSE = 4.803291\n",
      "Epoch 3800 MSE = 4.803283\n",
      "Epoch 3900 MSE = 4.803279\n",
      "Epoch 4000 MSE = 4.8032746\n",
      "Epoch 4100 MSE = 4.8032713\n",
      "Epoch 4200 MSE = 4.803268\n",
      "Epoch 4300 MSE = 4.8032656\n",
      "Epoch 4400 MSE = 4.803264\n",
      "Epoch 4500 MSE = 4.803262\n",
      "Epoch 4600 MSE = 4.8032613\n",
      "Epoch 4700 MSE = 4.8032603\n",
      "Epoch 4800 MSE = 4.8032584\n",
      "Epoch 4900 MSE = 4.8032584\n",
      "1.1857752799987793\n"
     ]
    }
   ],
   "source": [
    "import time\n",
    "start = time.time()\n",
    "X = tf.constant(scaled_housing_data_plus_bias, dtype=tf.float32, name=\"X\")\n",
    "y = tf.constant(housing.target.reshape(-1, 1), dtype=tf.float32, name=\"y\")\n",
    "theta = tf.Variable(tf.random_uniform([n + 1, 1], -1.0, 1.0), name=\"theta\")\n",
    "y_pred = tf.matmul(X, theta, name=\"predictions\")\n",
    "error = y_pred - y\n",
    "mse = tf.reduce_mean(tf.square(error), name=\"mse\")\n",
    "gradients = tf.gradients(mse, [theta])[0]\n",
    "optimizer = tf.train.GradientDescentOptimizer(learning_rate=learning_rate)\n",
    "training_op = optimizer.minimize(mse)\n",
    "\n",
    "init = tf.global_variables_initializer()\n",
    "\n",
    "with tf.Session() as sess:\n",
    "    sess.run(init)\n",
    "    \n",
    "    for epoch in range(n_epochs):\n",
    "        if epoch % 100 == 0:\n",
    "            print(\"Epoch\", epoch, \"MSE =\", mse.eval())\n",
    "        sess.run(training_op)\n",
    "    best_theta = theta.eval()\n",
    "end = time.time()\n",
    "print(end - start)"
   ]
  },
  {
   "cell_type": "markdown",
   "metadata": {},
   "source": [
    "### Simple, with just a few lines of code we utilize a built in optimizer. No big deal"
   ]
  },
  {
   "cell_type": "markdown",
   "metadata": {},
   "source": [
    "### other optimizers may be used, for example, a momentum optimizer\n",
    "# please note that often times momentum optimizers can be much faster for convergence than gradient descent"
   ]
  },
  {
   "cell_type": "code",
   "execution_count": 23,
   "metadata": {},
   "outputs": [
    {
     "name": "stdout",
     "output_type": "stream",
     "text": [
      "Epoch 0 MSE = 8.125369\n",
      "Epoch 100 MSE = 4.8794255\n",
      "Epoch 200 MSE = 4.8363953\n",
      "Epoch 300 MSE = 4.8182316\n",
      "Epoch 400 MSE = 4.810185\n",
      "Epoch 500 MSE = 4.8065057\n",
      "Epoch 600 MSE = 4.804792\n",
      "Epoch 700 MSE = 4.803984\n",
      "Epoch 800 MSE = 4.8036017\n",
      "Epoch 900 MSE = 4.8034196\n",
      "Epoch 1000 MSE = 4.803333\n",
      "Epoch 1100 MSE = 4.8032913\n",
      "Epoch 1200 MSE = 4.803272\n",
      "Epoch 1300 MSE = 4.8032627\n",
      "Epoch 1400 MSE = 4.803258\n",
      "Epoch 1500 MSE = 4.803256\n",
      "Epoch 1600 MSE = 4.8032556\n",
      "Epoch 1700 MSE = 4.8032546\n",
      "Epoch 1800 MSE = 4.8032537\n",
      "Epoch 1900 MSE = 4.8032537\n",
      "Epoch 2000 MSE = 4.8032546\n",
      "Epoch 2100 MSE = 4.803254\n",
      "Epoch 2200 MSE = 4.8032546\n",
      "Epoch 2300 MSE = 4.8032537\n",
      "Epoch 2400 MSE = 4.8032537\n",
      "Epoch 2500 MSE = 4.803254\n",
      "Epoch 2600 MSE = 4.8032546\n",
      "Epoch 2700 MSE = 4.803254\n",
      "Epoch 2800 MSE = 4.8032537\n",
      "Epoch 2900 MSE = 4.803254\n",
      "Epoch 3000 MSE = 4.8032537\n",
      "Epoch 3100 MSE = 4.8032537\n",
      "Epoch 3200 MSE = 4.8032537\n",
      "Epoch 3300 MSE = 4.8032537\n",
      "Epoch 3400 MSE = 4.8032537\n",
      "Epoch 3500 MSE = 4.8032537\n",
      "Epoch 3600 MSE = 4.8032537\n",
      "Epoch 3700 MSE = 4.8032537\n",
      "Epoch 3800 MSE = 4.8032537\n",
      "Epoch 3900 MSE = 4.8032537\n",
      "Epoch 4000 MSE = 4.8032537\n",
      "Epoch 4100 MSE = 4.8032537\n",
      "Epoch 4200 MSE = 4.8032537\n",
      "Epoch 4300 MSE = 4.8032537\n",
      "Epoch 4400 MSE = 4.8032537\n",
      "Epoch 4500 MSE = 4.8032537\n",
      "Epoch 4600 MSE = 4.8032537\n",
      "Epoch 4700 MSE = 4.8032537\n",
      "Epoch 4800 MSE = 4.8032537\n",
      "Epoch 4900 MSE = 4.8032537\n",
      "1.213331937789917\n",
      "Best theta:\n",
      "[[-0.41460776]\n",
      " [ 0.8296234 ]\n",
      " [ 0.11875252]\n",
      " [-0.26553383]\n",
      " [ 0.30570182]\n",
      " [-0.00450279]\n",
      " [-0.03932643]\n",
      " [-0.89987564]\n",
      " [-0.8705311 ]]\n"
     ]
    }
   ],
   "source": [
    "start = time.time()\n",
    "X = tf.constant(scaled_housing_data_plus_bias, dtype=tf.float32, name=\"X\")\n",
    "y = tf.constant(housing.target.reshape(-1, 1), dtype=tf.float32, name=\"y\")\n",
    "theta = tf.Variable(tf.random_uniform([n + 1, 1], -1.0, 1.0), name=\"theta\")\n",
    "y_pred = tf.matmul(X, theta, name=\"predictions\")\n",
    "error = y_pred - y\n",
    "mse = tf.reduce_mean(tf.square(error), name=\"mse\")\n",
    "gradients = tf.gradients(mse, [theta])[0]\n",
    "optimizer = tf.train.MomentumOptimizer(learning_rate=learning_rate, momentum=0.75)\n",
    "training_op = optimizer.minimize(mse)\n",
    "\n",
    "init = tf.global_variables_initializer()\n",
    "\n",
    "with tf.Session() as sess:\n",
    "    sess.run(init)\n",
    "    \n",
    "    for epoch in range(n_epochs):\n",
    "        if epoch % 100 == 0:\n",
    "            print(\"Epoch\", epoch, \"MSE =\", mse.eval())\n",
    "        sess.run(training_op)\n",
    "    best_theta = theta.eval()\n",
    "end = time.time()\n",
    "print(end - start)\n",
    "print(\"Best theta:\")\n",
    "print(best_theta)"
   ]
  },
  {
   "cell_type": "markdown",
   "metadata": {},
   "source": [
    "# you betcha, more than 25%  faster for convergence using a momentum optimizer"
   ]
  },
  {
   "cell_type": "markdown",
   "metadata": {},
   "source": [
    "# Implementing batch gradient descent with tensorflow\n",
    "## to implement Mini-batch GD, we must replace X and y at every iteration.\n",
    "### in order to do so, placeholder nodes can be utilized. They just output the data we tell them to output at runtime."
   ]
  },
  {
   "cell_type": "markdown",
   "metadata": {},
   "source": [
    "## in practice, they are typically used to pass training data to TensorFlow during training a value must be specified at runtime, otherwise an exception occurs\n",
    "\n",
    "### specifying ,None, for a dimension means that the placeholder node can be any size"
   ]
  },
  {
   "cell_type": "markdown",
   "metadata": {},
   "source": [
    "# Example for Placeholder B = A * 5\n",
    "# C = A + 5"
   ]
  },
  {
   "cell_type": "code",
   "execution_count": 28,
   "metadata": {},
   "outputs": [
    {
     "name": "stdout",
     "output_type": "stream",
     "text": [
      "[[ 5. 10. 15.]]\n",
      "[[20. 25. 30.]\n",
      " [35. 40. 45.]]\n",
      "[[6. 7. 8.]]\n",
      "[[ 9. 10. 11.]\n",
      " [12. 13. 14.]]\n"
     ]
    }
   ],
   "source": [
    "A = tf.placeholder(tf.float32, shape=(None, 3))\n",
    "B = A * 5\n",
    "C = A + 5\n",
    "with tf.Session() as sess:\n",
    "    B_val_1 = B.eval(feed_dict={A: [[1, 2, 3]]})\n",
    "    B_val_2 = B.eval(feed_dict={A: [[4, 5, 6], [7, 8, 9]]})\n",
    "    C_val_1 = C.eval(feed_dict={A: [[1, 2, 3]]})\n",
    "    C_val_2 = C.eval(feed_dict={A: [[4, 5, 6], [7, 8, 9]]})\n",
    "\n",
    "\n",
    "print(B_val_1)\n",
    "\n",
    "print(B_val_2)\n",
    "\n",
    "print(C_val_1)\n",
    "\n",
    "print(C_val_2)\n"
   ]
  },
  {
   "cell_type": "markdown",
   "metadata": {},
   "source": [
    "## For mini-batch gradient descent we need to first make X and y placeholder nodes"
   ]
  },
  {
   "cell_type": "code",
   "execution_count": 29,
   "metadata": {},
   "outputs": [],
   "source": [
    "X = tf.placeholder(tf.float32, shape=(None, n + 1), name=\"X\")\n",
    "y = tf.placeholder(tf.float32, shape=(None, 1), name=\"y\")\n",
    "\n",
    "batch_size = 5000\n",
    "n_batches = int(np.ceil(m / batch_size))"
   ]
  },
  {
   "cell_type": "markdown",
   "metadata": {},
   "source": [
    "#### Note: recall ceil is for rounding up integers.\n",
    "## For the execution, feed in mini-batches one by one, provide the value of X and y via feed_dict parameter"
   ]
  },
  {
   "cell_type": "code",
   "execution_count": 30,
   "metadata": {},
   "outputs": [
    {
     "name": "stdout",
     "output_type": "stream",
     "text": [
      "16.119039058685303\n",
      "Best theta:\n",
      "[[-0.72113657]\n",
      " [ 0.74445766]\n",
      " [ 0.14158066]\n",
      " [-0.01318893]\n",
      " [ 0.07011674]\n",
      " [ 0.00310853]\n",
      " [-0.04627834]\n",
      " [-0.85392654]\n",
      " [-0.8114292 ]]\n"
     ]
    }
   ],
   "source": [
    "start = time.time()\n",
    "X = tf.placeholder(tf.float32, shape=(None, n + 1), name=\"X\")\n",
    "y = tf.placeholder(tf.float32, shape=(None, 1), name=\"y\")\n",
    "\n",
    "theta = tf.Variable(tf.random_uniform([n + 1, 1], -1.0, 1.0), name=\"theta\")\n",
    "y_pred = tf.matmul(X, theta, name=\"predictions\")\n",
    "error = y_pred - y\n",
    "mse = tf.reduce_mean(tf.square(error), name=\"mse\")\n",
    "gradients = tf.gradients(mse, [theta])[0]\n",
    "optimizer = tf.train.MomentumOptimizer(learning_rate=learning_rate, momentum=0.75)\n",
    "training_op = optimizer.minimize(mse)\n",
    "\n",
    "init = tf.global_variables_initializer()\n",
    "saver = tf.train.Saver()\n",
    "\n",
    "batch_size = 5000\n",
    "n_batches = int(np.ceil(m / batch_size))\n",
    "\n",
    "def fetch_batch(epoch, batch_index, batch_size):\n",
    "    np.random.seed(epoch * n_batches + batch_index)  \n",
    "    indices = np.random.randint(m, size=batch_size)  \n",
    "    X_batch = scaled_housing_data_plus_bias[indices] \n",
    "    y_batch = housing.target.reshape(-1, 1)[indices] \n",
    "    return X_batch, y_batch\n",
    "with tf.Session() as sess:\n",
    "    sess.run(init)\n",
    "    \n",
    "    for epoch in range(n_epochs):\n",
    "        if epoch % 100 == 0: #checkpoint every 100 epochs\n",
    "            for batch_index in range(n_batches):\n",
    "                X_batch, y_batch = fetch_batch(epoch, batch_index, batch_size)\n",
    "                save_path = saver.save(sess, \"/tmp/my_model.ckpt\")\n",
    "                sess.run(training_op, feed_dict={X: X_batch, y: y_batch})\n",
    "            \n",
    "    best_theta = theta.eval()\n",
    "    save_path = saver.save(, \"/tmp/my_model_final.ckpt\")\n",
    "end = time.time()\n",
    "print(end - start)\n",
    "print(\"Best theta:\")\n",
    "print(best_theta)"
   ]
  },
  {
   "cell_type": "markdown",
   "metadata": {},
   "source": [
    "# Utilizing TensorBoard"
   ]
  },
  {
   "cell_type": "code",
   "execution_count": 62,
   "metadata": {},
   "outputs": [],
   "source": [
    "def strip_consts(graph_def, max_const_size=32):\n",
    "    \"\"\"Strip large constant values from graph_def.\"\"\"\n",
    "    strip_def = tf.GraphDef()\n",
    "    for n0 in graph_def.node:\n",
    "        n = strip_def.node.add() \n",
    "        n.MergeFrom(n0)\n",
    "        if n.op == 'Const':\n",
    "            tensor = n.attr['value'].tensor\n",
    "            size = len(tensor.tensor_content)\n",
    "            if size > max_const_size:\n",
    "                tensor.tensor_content = \"<stripped %d bytes>\"%size\n",
    "    return strip_def\n",
    "\n",
    "def show_graph(graph_def, max_const_size=32):\n",
    "    \"\"\"Visualize TensorFlow graph.\"\"\"\n",
    "    if hasattr(graph_def, 'as_graph_def'):\n",
    "        graph_def = graph_def.as_graph_def()\n",
    "    strip_def = strip_consts(graph_def, max_const_size=max_const_size)\n",
    "    code = \"\"\"\n",
    "        <script src=\"//cdnjs.cloudflare.com/ajax/libs/polymer/0.3.3/platform.js\"></script>\n",
    "        <script>\n",
    "          function load() {{\n",
    "            document.getElementById(\"{id}\").pbtxt = {data};\n",
    "          }}\n",
    "        </script>\n",
    "        <link rel=\"import\" href=\"https://tensorboard.appspot.com/tf-graph-basic.build.html\" onload=load()>\n",
    "        <div style=\"height:600px\">\n",
    "          <tf-graph-basic id=\"{id}\"></tf-graph-basic>\n",
    "        </div>\n",
    "    \"\"\".format(data=repr(str(strip_def)), id='graph'+str(np.random.rand()))\n",
    "\n",
    "    iframe = \"\"\"\n",
    "        <iframe seamless style=\"width:1200px;height:620px;border:0\" srcdoc=\"{}\"></iframe>\n",
    "    \"\"\".format(code.replace('\"', '&quot;'))\n",
    "    display(HTML(iframe))"
   ]
  },
  {
   "cell_type": "code",
   "execution_count": 63,
   "metadata": {},
   "outputs": [],
   "source": [
    "from datetime import datetime\n",
    "\n",
    "now = datetime.utcnow().strftime(\"%Y%m%d%H%M%S\")\n",
    "root_logdir = \"tf_logs\"\n",
    "logdir = \"{}/run-{}/\".format(root_logdir, now)"
   ]
  },
  {
   "cell_type": "code",
   "execution_count": 64,
   "metadata": {},
   "outputs": [],
   "source": [
    "n_epochs = 1000\n",
    "learning_rate = 0.01\n",
    "\n",
    "X = tf.placeholder(tf.float32, shape=(None, n + 1), name=\"X\")\n",
    "y = tf.placeholder(tf.float32, shape=(None, 1), name=\"y\")\n",
    "theta = tf.Variable(tf.random_uniform([n + 1, 1], -1.0, 1.0, seed=42), name=\"theta\")\n",
    "y_pred = tf.matmul(X, theta, name=\"predictions\")\n",
    "error = y_pred - y\n",
    "mse = tf.reduce_mean(tf.square(error), name=\"mse\")\n",
    "optimizer = tf.train.GradientDescentOptimizer(learning_rate=learning_rate)\n",
    "training_op = optimizer.minimize(mse)\n",
    "\n",
    "init = tf.global_variables_initializer()"
   ]
  },
  {
   "cell_type": "code",
   "execution_count": 72,
   "metadata": {},
   "outputs": [],
   "source": [
    "mse_summary = tf.summary.scalar('MSE', mse)\n",
    "file_writer = tf.summary.FileWriter(logdir, tf.get_default_graph())"
   ]
  },
  {
   "cell_type": "code",
   "execution_count": 73,
   "metadata": {},
   "outputs": [],
   "source": [
    "n_epochs = 10\n",
    "batch_size = 50\n",
    "n_batches = int(np.ceil(m / batch_size))"
   ]
  },
  {
   "cell_type": "code",
   "execution_count": 74,
   "metadata": {},
   "outputs": [],
   "source": [
    "with tf.Session() as sess:                                                        \n",
    "    sess.run(init)                                                                \n",
    "\n",
    "    for epoch in range(n_epochs):                                                 \n",
    "        for batch_index in range(n_batches):\n",
    "            X_batch, y_batch = fetch_batch(epoch, batch_index, batch_size)\n",
    "            if batch_index % 5 == 0:\n",
    "                summary_str = mse_summary.eval(feed_dict={X: X_batch, y: y_batch})\n",
    "                step = epoch * n_batches + batch_index\n",
    "                file_writer.add_summary(summary_str, step)\n",
    "            sess.run(training_op, feed_dict={X: X_batch, y: y_batch})\n",
    "\n",
    "    best_theta = theta.eval()  "
   ]
  },
  {
   "cell_type": "code",
   "execution_count": 75,
   "metadata": {},
   "outputs": [],
   "source": [
    "file_writer.close()"
   ]
  },
  {
   "cell_type": "code",
   "execution_count": 76,
   "metadata": {},
   "outputs": [
    {
     "data": {
      "text/plain": [
       "array([[ 0.9045429 ],\n",
       "       [ 0.8222856 ],\n",
       "       [ 0.07364567],\n",
       "       [-0.31937072],\n",
       "       [ 0.19574822],\n",
       "       [-0.00453428],\n",
       "       [ 0.01396737],\n",
       "       [-0.935621  ],\n",
       "       [-0.8482822 ]], dtype=float32)"
      ]
     },
     "execution_count": 76,
     "metadata": {},
     "output_type": "execute_result"
    }
   ],
   "source": [
    "best_theta"
   ]
  },
  {
   "cell_type": "code",
   "execution_count": null,
   "metadata": {},
   "outputs": [],
   "source": []
  }
 ],
 "metadata": {
  "kernelspec": {
   "display_name": "Python 3",
   "language": "python",
   "name": "python3"
  },
  "language_info": {
   "codemirror_mode": {
    "name": "ipython",
    "version": 3
   },
   "file_extension": ".py",
   "mimetype": "text/x-python",
   "name": "python",
   "nbconvert_exporter": "python",
   "pygments_lexer": "ipython3",
   "version": "3.7.3"
  }
 },
 "nbformat": 4,
 "nbformat_minor": 2
}
