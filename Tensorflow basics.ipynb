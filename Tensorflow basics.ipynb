{
 "cells": [
  {
   "cell_type": "code",
   "execution_count": 1,
   "metadata": {},
   "outputs": [],
   "source": [
    "import tensorflow as tf"
   ]
  },
  {
   "cell_type": "code",
   "execution_count": 2,
   "metadata": {},
   "outputs": [
    {
     "name": "stdout",
     "output_type": "stream",
     "text": [
      "WARNING:tensorflow:From /Users/davescott/anaconda3/lib/python3.7/site-packages/tensorflow/python/framework/op_def_library.py:263: colocate_with (from tensorflow.python.framework.ops) is deprecated and will be removed in a future version.\n",
      "Instructions for updating:\n",
      "Colocations handled automatically by placer.\n"
     ]
    }
   ],
   "source": [
    "x = tf.Variable(3, name=\"x\")\n",
    "y = tf.Variable(4, name=\"y\")\n",
    "f = x*x*y + y + 2"
   ]
  },
  {
   "cell_type": "code",
   "execution_count": 7,
   "metadata": {},
   "outputs": [
    {
     "name": "stdout",
     "output_type": "stream",
     "text": [
      "42\n"
     ]
    }
   ],
   "source": [
    "sess = tf.Session()\n",
    "sess.run(x.initializer)\n",
    "sess.run(y.initializer)\n",
    "result = sess.run(f)\n",
    "print(result)"
   ]
  },
  {
   "cell_type": "code",
   "execution_count": 8,
   "metadata": {},
   "outputs": [],
   "source": [
    "sess.close()"
   ]
  },
  {
   "cell_type": "markdown",
   "metadata": {},
   "source": [
    "## A more efficient way to having to repeat sess.run() is to do the following"
   ]
  },
  {
   "cell_type": "code",
   "execution_count": 9,
   "metadata": {},
   "outputs": [],
   "source": [
    "with tf.Session() as sess:\n",
    "    x.initializer.run()\n",
    "    y.initializer.run()\n",
    "    result = f.eval()"
   ]
  },
  {
   "cell_type": "code",
   "execution_count": 10,
   "metadata": {},
   "outputs": [],
   "source": [
    "init = tf.global_variables_initializer() #prepare an init node"
   ]
  },
  {
   "cell_type": "code",
   "execution_count": 11,
   "metadata": {},
   "outputs": [],
   "source": [
    "with tf.Session() as sess:\n",
    "    init.run() # initialize all variables\n",
    "    result = f.eval()"
   ]
  },
  {
   "cell_type": "code",
   "execution_count": 12,
   "metadata": {},
   "outputs": [
    {
     "name": "stdout",
     "output_type": "stream",
     "text": [
      "42\n"
     ]
    }
   ],
   "source": [
    "sess = tf.InteractiveSession()\n",
    "init.run()\n",
    "result = f.eval()\n",
    "print(result)"
   ]
  },
  {
   "cell_type": "code",
   "execution_count": 13,
   "metadata": {},
   "outputs": [
    {
     "data": {
      "text/plain": [
       "True"
      ]
     },
     "execution_count": 13,
     "metadata": {},
     "output_type": "execute_result"
    }
   ],
   "source": [
    "x1 = tf.Variable(1)\n",
    "x1.graph is tf.get_default_graph()"
   ]
  },
  {
   "cell_type": "markdown",
   "metadata": {},
   "source": [
    "#### Any time a node is created it gets added to the graph. In order to combat and manage this it is possible to create a new graph and temporarily make it the default graph within a block"
   ]
  },
  {
   "cell_type": "code",
   "execution_count": 14,
   "metadata": {},
   "outputs": [
    {
     "data": {
      "text/plain": [
       "True"
      ]
     },
     "execution_count": 14,
     "metadata": {},
     "output_type": "execute_result"
    }
   ],
   "source": [
    "graph = tf.Graph()\n",
    "with graph.as_default():\n",
    "    x2 = tf.Variable(2)\n",
    "    \n",
    "x2.graph is graph"
   ]
  },
  {
   "cell_type": "code",
   "execution_count": 15,
   "metadata": {},
   "outputs": [
    {
     "data": {
      "text/plain": [
       "False"
      ]
     },
     "execution_count": 15,
     "metadata": {},
     "output_type": "execute_result"
    }
   ],
   "source": [
    "x2.graph is tf.get_default_graph()"
   ]
  },
  {
   "cell_type": "markdown",
   "metadata": {},
   "source": [
    "### While troubleshooting or coding our graphs, we may run into a case with many overlapping nodes and issues. \n",
    "\n",
    "#### In order to correct this we may take advantage of tf.reset_default_graph()"
   ]
  },
  {
   "cell_type": "code",
   "execution_count": 16,
   "metadata": {},
   "outputs": [],
   "source": [
    "tf.reset_default_graph()"
   ]
  },
  {
   "cell_type": "markdown",
   "metadata": {},
   "source": [
    "### In the following code below, x and w will both be evaluated twice for y, and z."
   ]
  },
  {
   "cell_type": "code",
   "execution_count": 17,
   "metadata": {},
   "outputs": [
    {
     "name": "stdout",
     "output_type": "stream",
     "text": [
      "10\n",
      "16\n"
     ]
    }
   ],
   "source": [
    "w = tf.constant(3)\n",
    "x = w + 1\n",
    "y = x + 6\n",
    "z = x * 4\n",
    "\n",
    "with tf.Session() as sess:\n",
    "    print(y.eval()) \n",
    "    print(z.eval())"
   ]
  },
  {
   "cell_type": "markdown",
   "metadata": {},
   "source": [
    "## Say if we only want to evaluate x and w once, we may do so in just one graph. "
   ]
  },
  {
   "cell_type": "code",
   "execution_count": 18,
   "metadata": {},
   "outputs": [
    {
     "name": "stdout",
     "output_type": "stream",
     "text": [
      "10\n",
      "16\n"
     ]
    }
   ],
   "source": [
    "with tf.Session() as sess:\n",
    "    y_val, z_val = sess.run([y, z])\n",
    "    print(y.eval()) \n",
    "    print(z.eval())"
   ]
  },
  {
   "cell_type": "markdown",
   "metadata": {},
   "source": [
    "### Utilizing tensorflow for more than a scalar vector....\n",
    "#### Let's do some computations"
   ]
  },
  {
   "cell_type": "code",
   "execution_count": 19,
   "metadata": {},
   "outputs": [],
   "source": [
    "import numpy as np\n",
    "from sklearn.datasets import fetch_california_housing"
   ]
  },
  {
   "cell_type": "code",
   "execution_count": 20,
   "metadata": {},
   "outputs": [
    {
     "name": "stderr",
     "output_type": "stream",
     "text": [
      "Downloading Cal. housing from https://ndownloader.figshare.com/files/5976036 to /Users/davescott/scikit_learn_data\n"
     ]
    }
   ],
   "source": [
    "housing = fetch_california_housing()\n",
    "m, n = housing.data.shape\n",
    "housing_data_plus_bias = np.c_[np.ones((m, 1)), housing.data]"
   ]
  },
  {
   "cell_type": "code",
   "execution_count": 22,
   "metadata": {},
   "outputs": [
    {
     "name": "stdout",
     "output_type": "stream",
     "text": [
      "[[-3.6959320e+01]\n",
      " [ 4.3698898e-01]\n",
      " [ 9.4245886e-03]\n",
      " [-1.0791138e-01]\n",
      " [ 6.4842808e-01]\n",
      " [-3.9986235e-06]\n",
      " [-3.7866351e-03]\n",
      " [-4.2142656e-01]\n",
      " [-4.3467718e-01]]\n"
     ]
    }
   ],
   "source": [
    "X = tf.constant(housing_data_plus_bias, dtype=tf.float32, name=\"X\")\n",
    "y = tf.constant(housing.target.reshape(-1, 1), dtype=tf.float32, name=\"y\")\n",
    "XT = tf.transpose(X)\n",
    "theta = tf.matmul(tf.matmul(tf.matrix_inverse(tf.matmul(XT, X)), XT), y)\n",
    "\n",
    "with tf.Session() as sess:\n",
    "    theta_value = theta.eval()\n",
    "    print(theta_value)"
   ]
  },
  {
   "cell_type": "markdown",
   "metadata": {},
   "source": [
    "## Above the normal equation was utilized in order to calculate theta.\n",
    "\n",
    "## Instead, let's implement gradient descent to calculate theta for us."
   ]
  },
  {
   "cell_type": "markdown",
   "metadata": {},
   "source": [
    "### Recall for gradient descent that data normalization needs to be undertaken before we work with the data. Otherwise training will take much more time."
   ]
  },
  {
   "cell_type": "code",
   "execution_count": 25,
   "metadata": {},
   "outputs": [],
   "source": [
    "from sklearn.preprocessing import StandardScaler\n",
    "scaler = StandardScaler()\n",
    "scaler.fit(housing_data_plus_bias)\n",
    "scaled_housing_data_plus_bias = scaler.transform(housing_data_plus_bias)"
   ]
  },
  {
   "cell_type": "code",
   "execution_count": 29,
   "metadata": {},
   "outputs": [],
   "source": [
    "n_epochs = 5000\n",
    "learning_rate = 0.01"
   ]
  },
  {
   "cell_type": "code",
   "execution_count": 32,
   "metadata": {},
   "outputs": [
    {
     "name": "stdout",
     "output_type": "stream",
     "text": [
      "Epoch 0 MSE = 7.3624015\n",
      "Epoch 100 MSE = 4.9162626\n",
      "Epoch 200 MSE = 4.855857\n",
      "Epoch 300 MSE = 4.8405457\n",
      "Epoch 400 MSE = 4.8305283\n",
      "Epoch 500 MSE = 4.8232937\n",
      "Epoch 600 MSE = 4.818017\n",
      "Epoch 700 MSE = 4.814162\n",
      "Epoch 800 MSE = 4.8113365\n",
      "Epoch 900 MSE = 4.8092623\n",
      "Epoch 1000 MSE = 4.8077374\n",
      "Epoch 1100 MSE = 4.806612\n",
      "Epoch 1200 MSE = 4.805779\n",
      "Epoch 1300 MSE = 4.805162\n",
      "Epoch 1400 MSE = 4.8047013\n",
      "Epoch 1500 MSE = 4.804358\n",
      "Epoch 1600 MSE = 4.8041\n",
      "Epoch 1700 MSE = 4.8039064\n",
      "Epoch 1800 MSE = 4.8037586\n",
      "Epoch 1900 MSE = 4.8036466\n",
      "Epoch 2000 MSE = 4.8035617\n",
      "Epoch 2100 MSE = 4.8034954\n",
      "Epoch 2200 MSE = 4.8034453\n",
      "Epoch 2300 MSE = 4.803406\n",
      "Epoch 2400 MSE = 4.8033743\n",
      "Epoch 2500 MSE = 4.8033514\n",
      "Epoch 2600 MSE = 4.803332\n",
      "Epoch 2700 MSE = 4.8033166\n",
      "Epoch 2800 MSE = 4.8033056\n",
      "Epoch 2900 MSE = 4.803295\n",
      "Epoch 3000 MSE = 4.803288\n",
      "Epoch 3100 MSE = 4.8032813\n",
      "Epoch 3200 MSE = 4.803276\n",
      "Epoch 3300 MSE = 4.803272\n",
      "Epoch 3400 MSE = 4.803269\n",
      "Epoch 3500 MSE = 4.803266\n",
      "Epoch 3600 MSE = 4.803264\n",
      "Epoch 3700 MSE = 4.803262\n",
      "Epoch 3800 MSE = 4.803261\n",
      "Epoch 3900 MSE = 4.80326\n",
      "Epoch 4000 MSE = 4.8032584\n",
      "Epoch 4100 MSE = 4.8032575\n",
      "Epoch 4200 MSE = 4.8032565\n",
      "Epoch 4300 MSE = 4.8032565\n",
      "Epoch 4400 MSE = 4.803256\n",
      "Epoch 4500 MSE = 4.803256\n",
      "Epoch 4600 MSE = 4.8032556\n",
      "Epoch 4700 MSE = 4.803255\n",
      "Epoch 4800 MSE = 4.803255\n",
      "Epoch 4900 MSE = 4.8032546\n"
     ]
    }
   ],
   "source": [
    "X = tf.constant(scaled_housing_data_plus_bias, dtype=tf.float32, name=\"X\")\n",
    "y = tf.constant(housing.target.reshape(-1, 1), dtype=tf.float32, name=\"y\")\n",
    "theta = tf.Variable(tf.random_uniform([n + 1, 1], -1.0, 1.0), name=\"theta\")\n",
    "y_pred = tf.matmul(X, theta, name=\"predictions\")\n",
    "error = y_pred - y\n",
    "mse = tf.reduce_mean(tf.square(error), name=\"mse\")\n",
    "gradients = 2/m * tf.matmul(tf.transpose(X), error)\n",
    "training_op = tf.assign(theta, theta - learning_rate * gradients)\n",
    "\n",
    "init = tf.global_variables_initializer()\n",
    "\n",
    "with tf.Session() as sess:\n",
    "    sess.run(init)\n",
    "    \n",
    "    for epoch in range(n_epochs):\n",
    "        if epoch % 100 == 0:\n",
    "            print(\"Epoch\", epoch, \"MSE =\", mse.eval())\n",
    "        sess.run(training_op)\n",
    "    best_theta = theta.eval()"
   ]
  },
  {
   "cell_type": "markdown",
   "metadata": {},
   "source": [
    "### A good solution is found well before many iterations are ran."
   ]
  },
  {
   "cell_type": "markdown",
   "metadata": {},
   "source": [
    "## Unfortunately, manually inputting gradients for every line in a tensorflow calculation is extremely tedious. \n",
    "### Instead we may take advantage of the autodiff approach, which utilizes a reverse-mode autodiff, which AUTOMATICALLY and EFFICIENTLY computes gradients. \n",
    "\n",
    "# Sounds like a dream for an engineer who loves efficiency :)"
   ]
  },
  {
   "cell_type": "code",
   "execution_count": 33,
   "metadata": {},
   "outputs": [
    {
     "name": "stdout",
     "output_type": "stream",
     "text": [
      "Epoch 0 MSE = 8.79953\n",
      "Epoch 100 MSE = 4.979629\n",
      "Epoch 200 MSE = 4.8882\n",
      "Epoch 300 MSE = 4.8667197\n",
      "Epoch 400 MSE = 4.851765\n",
      "Epoch 500 MSE = 4.84056\n",
      "Epoch 600 MSE = 4.8320932\n",
      "Epoch 700 MSE = 4.825665\n",
      "Epoch 800 MSE = 4.8207593\n",
      "Epoch 900 MSE = 4.8169975\n",
      "Epoch 1000 MSE = 4.814098\n",
      "Epoch 1100 MSE = 4.811851\n",
      "Epoch 1200 MSE = 4.810101\n",
      "Epoch 1300 MSE = 4.8087316\n",
      "Epoch 1400 MSE = 4.807654\n",
      "Epoch 1500 MSE = 4.8068013\n",
      "Epoch 1600 MSE = 4.8061237\n",
      "Epoch 1700 MSE = 4.8055835\n",
      "Epoch 1800 MSE = 4.805151\n",
      "Epoch 1900 MSE = 4.8048024\n",
      "Epoch 2000 MSE = 4.804521\n",
      "Epoch 2100 MSE = 4.804293\n",
      "Epoch 2200 MSE = 4.804108\n",
      "Epoch 2300 MSE = 4.803956\n",
      "Epoch 2400 MSE = 4.803833\n",
      "Epoch 2500 MSE = 4.8037314\n",
      "Epoch 2600 MSE = 4.803649\n",
      "Epoch 2700 MSE = 4.8035808\n",
      "Epoch 2800 MSE = 4.8035245\n",
      "Epoch 2900 MSE = 4.8034782\n",
      "Epoch 3000 MSE = 4.80344\n",
      "Epoch 3100 MSE = 4.8034086\n",
      "Epoch 3200 MSE = 4.8033824\n",
      "Epoch 3300 MSE = 4.8033605\n",
      "Epoch 3400 MSE = 4.8033423\n",
      "Epoch 3500 MSE = 4.803327\n",
      "Epoch 3600 MSE = 4.803315\n",
      "Epoch 3700 MSE = 4.8033047\n",
      "Epoch 3800 MSE = 4.803296\n",
      "Epoch 3900 MSE = 4.8032894\n",
      "Epoch 4000 MSE = 4.803283\n",
      "Epoch 4100 MSE = 4.8032784\n",
      "Epoch 4200 MSE = 4.803274\n",
      "Epoch 4300 MSE = 4.8032703\n",
      "Epoch 4400 MSE = 4.8032675\n",
      "Epoch 4500 MSE = 4.8032656\n",
      "Epoch 4600 MSE = 4.8032637\n",
      "Epoch 4700 MSE = 4.803262\n",
      "Epoch 4800 MSE = 4.8032603\n",
      "Epoch 4900 MSE = 4.80326\n"
     ]
    }
   ],
   "source": [
    "X = tf.constant(scaled_housing_data_plus_bias, dtype=tf.float32, name=\"X\")\n",
    "y = tf.constant(housing.target.reshape(-1, 1), dtype=tf.float32, name=\"y\")\n",
    "theta = tf.Variable(tf.random_uniform([n + 1, 1], -1.0, 1.0), name=\"theta\")\n",
    "y_pred = tf.matmul(X, theta, name=\"predictions\")\n",
    "error = y_pred - y\n",
    "mse = tf.reduce_mean(tf.square(error), name=\"mse\")\n",
    "gradients = tf.gradients(mse, [theta])[0]\n",
    "training_op = tf.assign(theta, theta - learning_rate * gradients)\n",
    "\n",
    "init = tf.global_variables_initializer()\n",
    "\n",
    "with tf.Session() as sess:\n",
    "    sess.run(init)\n",
    "    \n",
    "    for epoch in range(n_epochs):\n",
    "        if epoch % 100 == 0:\n",
    "            print(\"Epoch\", epoch, \"MSE =\", mse.eval())\n",
    "        sess.run(training_op)\n",
    "    best_theta = theta.eval()"
   ]
  },
  {
   "cell_type": "markdown",
   "metadata": {},
   "source": [
    "## Simply replace the manual calculation of gradients line for the line\n",
    "\n",
    "### gradients = tf.gradients(mse, [theta])[0]"
   ]
  },
  {
   "cell_type": "markdown",
   "metadata": {},
   "source": [
    "# To make things EVEN BETTER tensorflow has built in optimizers, even one for gradient descent. Yep. Making things that much better.\n",
    "\n",
    "## we may go and make adjustments to the prior code with a simple optimizer replace training_op"
   ]
  },
  {
   "cell_type": "code",
   "execution_count": 36,
   "metadata": {},
   "outputs": [
    {
     "name": "stdout",
     "output_type": "stream",
     "text": [
      "Epoch 0 MSE = 6.402991\n",
      "Epoch 100 MSE = 4.87908\n",
      "Epoch 200 MSE = 4.8554063\n",
      "Epoch 300 MSE = 4.8408113\n",
      "Epoch 400 MSE = 4.8303423\n",
      "Epoch 500 MSE = 4.8227935\n",
      "Epoch 600 MSE = 4.817348\n",
      "Epoch 700 MSE = 4.8134203\n",
      "Epoch 800 MSE = 4.810587\n",
      "Epoch 900 MSE = 4.808544\n",
      "Epoch 1000 MSE = 4.80707\n",
      "Epoch 1100 MSE = 4.8060064\n",
      "Epoch 1200 MSE = 4.805239\n",
      "Epoch 1300 MSE = 4.804686\n",
      "Epoch 1400 MSE = 4.804287\n",
      "Epoch 1500 MSE = 4.8039994\n",
      "Epoch 1600 MSE = 4.8037915\n",
      "Epoch 1700 MSE = 4.8036413\n",
      "Epoch 1800 MSE = 4.8035336\n",
      "Epoch 1900 MSE = 4.8034554\n",
      "Epoch 2000 MSE = 4.8033996\n",
      "Epoch 2100 MSE = 4.803359\n",
      "Epoch 2200 MSE = 4.80333\n",
      "Epoch 2300 MSE = 4.803308\n",
      "Epoch 2400 MSE = 4.8032937\n",
      "Epoch 2500 MSE = 4.8032823\n",
      "Epoch 2600 MSE = 4.8032746\n",
      "Epoch 2700 MSE = 4.803269\n",
      "Epoch 2800 MSE = 4.803264\n",
      "Epoch 2900 MSE = 4.803262\n",
      "Epoch 3000 MSE = 4.80326\n",
      "Epoch 3100 MSE = 4.803258\n",
      "Epoch 3200 MSE = 4.8032565\n",
      "Epoch 3300 MSE = 4.8032565\n",
      "Epoch 3400 MSE = 4.803255\n",
      "Epoch 3500 MSE = 4.8032546\n",
      "Epoch 3600 MSE = 4.8032546\n",
      "Epoch 3700 MSE = 4.8032546\n",
      "Epoch 3800 MSE = 4.803255\n",
      "Epoch 3900 MSE = 4.803254\n",
      "Epoch 4000 MSE = 4.803254\n",
      "Epoch 4100 MSE = 4.8032546\n",
      "Epoch 4200 MSE = 4.803254\n",
      "Epoch 4300 MSE = 4.803253\n",
      "Epoch 4400 MSE = 4.803254\n",
      "Epoch 4500 MSE = 4.8032546\n",
      "Epoch 4600 MSE = 4.8032537\n",
      "Epoch 4700 MSE = 4.8032537\n",
      "Epoch 4800 MSE = 4.8032537\n",
      "Epoch 4900 MSE = 4.803254\n",
      "1.6556379795074463\n"
     ]
    }
   ],
   "source": [
    "import time\n",
    "start = time.time()\n",
    "X = tf.constant(scaled_housing_data_plus_bias, dtype=tf.float32, name=\"X\")\n",
    "y = tf.constant(housing.target.reshape(-1, 1), dtype=tf.float32, name=\"y\")\n",
    "theta = tf.Variable(tf.random_uniform([n + 1, 1], -1.0, 1.0), name=\"theta\")\n",
    "y_pred = tf.matmul(X, theta, name=\"predictions\")\n",
    "error = y_pred - y\n",
    "mse = tf.reduce_mean(tf.square(error), name=\"mse\")\n",
    "gradients = tf.gradients(mse, [theta])[0]\n",
    "optimizer = tf.train.GradientDescentOptimizer(learning_rate=learning_rate)\n",
    "training_op = optimizer.minimize(mse)\n",
    "\n",
    "init = tf.global_variables_initializer()\n",
    "\n",
    "with tf.Session() as sess:\n",
    "    sess.run(init)\n",
    "    \n",
    "    for epoch in range(n_epochs):\n",
    "        if epoch % 100 == 0:\n",
    "            print(\"Epoch\", epoch, \"MSE =\", mse.eval())\n",
    "        sess.run(training_op)\n",
    "    best_theta = theta.eval()\n",
    "end = time.time()\n",
    "print(end - start)"
   ]
  },
  {
   "cell_type": "markdown",
   "metadata": {},
   "source": [
    "### Simple, with just a few lines of code we utilize a built in optimizer. No big deal"
   ]
  },
  {
   "cell_type": "markdown",
   "metadata": {},
   "source": [
    "### other optimizers may be used, for example, a momentum optimizer\n",
    "# please note that often times momentum optimizers can be much faster for convergence than gradient descent"
   ]
  },
  {
   "cell_type": "code",
   "execution_count": 37,
   "metadata": {},
   "outputs": [
    {
     "name": "stdout",
     "output_type": "stream",
     "text": [
      "Epoch 0 MSE = 13.002845\n",
      "Epoch 100 MSE = 4.8472853\n",
      "Epoch 200 MSE = 4.815852\n",
      "Epoch 300 MSE = 4.8070564\n",
      "Epoch 400 MSE = 4.804488\n",
      "Epoch 500 MSE = 4.8036904\n",
      "Epoch 600 MSE = 4.8034225\n",
      "Epoch 700 MSE = 4.8033233\n",
      "Epoch 800 MSE = 4.803285\n",
      "Epoch 900 MSE = 4.803268\n",
      "Epoch 1000 MSE = 4.8032603\n",
      "Epoch 1100 MSE = 4.8032565\n",
      "Epoch 1200 MSE = 4.803255\n",
      "Epoch 1300 MSE = 4.8032546\n",
      "Epoch 1400 MSE = 4.8032546\n",
      "Epoch 1500 MSE = 4.8032537\n",
      "Epoch 1600 MSE = 4.8032546\n",
      "Epoch 1700 MSE = 4.803254\n",
      "Epoch 1800 MSE = 4.803254\n",
      "Epoch 1900 MSE = 4.803254\n",
      "Epoch 2000 MSE = 4.803254\n",
      "Epoch 2100 MSE = 4.803254\n",
      "Epoch 2200 MSE = 4.803254\n",
      "Epoch 2300 MSE = 4.8032537\n",
      "Epoch 2400 MSE = 4.8032546\n",
      "Epoch 2500 MSE = 4.8032537\n",
      "Epoch 2600 MSE = 4.803254\n",
      "Epoch 2700 MSE = 4.803254\n",
      "Epoch 2800 MSE = 4.803254\n",
      "Epoch 2900 MSE = 4.8032537\n",
      "Epoch 3000 MSE = 4.803254\n",
      "Epoch 3100 MSE = 4.803254\n",
      "Epoch 3200 MSE = 4.803254\n",
      "Epoch 3300 MSE = 4.803254\n",
      "Epoch 3400 MSE = 4.803254\n",
      "Epoch 3500 MSE = 4.803254\n",
      "Epoch 3600 MSE = 4.803254\n",
      "Epoch 3700 MSE = 4.803254\n",
      "Epoch 3800 MSE = 4.803254\n",
      "Epoch 3900 MSE = 4.803254\n",
      "Epoch 4000 MSE = 4.803254\n",
      "Epoch 4100 MSE = 4.803254\n",
      "Epoch 4200 MSE = 4.803254\n",
      "Epoch 4300 MSE = 4.803254\n",
      "Epoch 4400 MSE = 4.803254\n",
      "Epoch 4500 MSE = 4.803254\n",
      "Epoch 4600 MSE = 4.803254\n",
      "Epoch 4700 MSE = 4.803254\n",
      "Epoch 4800 MSE = 4.803254\n",
      "Epoch 4900 MSE = 4.803254\n",
      "1.257133960723877\n"
     ]
    }
   ],
   "source": [
    "start = time.time()\n",
    "X = tf.constant(scaled_housing_data_plus_bias, dtype=tf.float32, name=\"X\")\n",
    "y = tf.constant(housing.target.reshape(-1, 1), dtype=tf.float32, name=\"y\")\n",
    "theta = tf.Variable(tf.random_uniform([n + 1, 1], -1.0, 1.0), name=\"theta\")\n",
    "y_pred = tf.matmul(X, theta, name=\"predictions\")\n",
    "error = y_pred - y\n",
    "mse = tf.reduce_mean(tf.square(error), name=\"mse\")\n",
    "gradients = tf.gradients(mse, [theta])[0]\n",
    "optimizer = tf.train.MomentumOptimizer(learning_rate=learning_rate, momentum=0.75)\n",
    "training_op = optimizer.minimize(mse)\n",
    "\n",
    "init = tf.global_variables_initializer()\n",
    "\n",
    "with tf.Session() as sess:\n",
    "    sess.run(init)\n",
    "    \n",
    "    for epoch in range(n_epochs):\n",
    "        if epoch % 100 == 0:\n",
    "            print(\"Epoch\", epoch, \"MSE =\", mse.eval())\n",
    "        sess.run(training_op)\n",
    "    best_theta = theta.eval()\n",
    "end = time.time()\n",
    "print(end - start)"
   ]
  },
  {
   "cell_type": "markdown",
   "metadata": {},
   "source": [
    "# you betcha, more than 25%  faster for convergence using a momentum optimizer"
   ]
  },
  {
   "cell_type": "markdown",
   "metadata": {},
   "source": [
    "# Implementing batch gradient descent with tensorflow\n",
    "## to implement Mini-batch GD, we must replace X and y at every iteration.\n",
    "### in order to do so, placeholder nodes can be utilized. They just output the data we tell them to output at runtime."
   ]
  },
  {
   "cell_type": "markdown",
   "metadata": {},
   "source": [
    "## in practice, they are typically used to pass training data to TensorFlow during training a value must be specified at runtime, otherwise an exception occurs\n",
    "\n",
    "### specifying ,None, for a dimension means that the placeholder node can be any size"
   ]
  },
  {
   "cell_type": "markdown",
   "metadata": {},
   "source": [
    "# Example for Placeholder B = A * 5\n",
    "# C = A + 5"
   ]
  },
  {
   "cell_type": "code",
   "execution_count": 39,
   "metadata": {},
   "outputs": [
    {
     "name": "stdout",
     "output_type": "stream",
     "text": [
      "[[ 5. 10. 15.]]\n",
      "[[20. 25. 30.]\n",
      " [35. 40. 45.]]\n",
      "[[6. 7. 8.]]\n",
      "[[ 9. 10. 11.]\n",
      " [12. 13. 14.]]\n"
     ]
    }
   ],
   "source": [
    "A = tf.placeholder(tf.float32, shape=(None, 3))\n",
    "B = A * 5\n",
    "C = A + 5\n",
    "with tf.Session() as sess:\n",
    "    B_val_1 = B.eval(feed_dict={A: [[1, 2, 3]]})\n",
    "    B_val_2 = B.eval(feed_dict={A: [[4, 5, 6], [7, 8, 9]]})\n",
    "    C_val_1 = C.eval(feed_dict={A: [[1, 2, 3]]})\n",
    "    C_val_2 = C.eval(feed_dict={A: [[4, 5, 6], [7, 8, 9]]})\n",
    "\n",
    "\n",
    "print(B_val_1)\n",
    "\n",
    "print(B_val_2)\n",
    "\n",
    "print(C_val_1)\n",
    "\n",
    "print(C_val_2)\n"
   ]
  },
  {
   "cell_type": "markdown",
   "metadata": {},
   "source": [
    "## For mini-batch gradient descent we need to first make X and y placeholder nodes"
   ]
  },
  {
   "cell_type": "code",
   "execution_count": 40,
   "metadata": {},
   "outputs": [],
   "source": [
    "X = tf.placeholder(tf.float32, shape=(None, n + 1), name=\"X\")\n",
    "y = tf.placeholder(tf.float32, shape=(None, 1), name=\"y\")\n",
    "\n",
    "batch_size = 5000\n",
    "n_batches = int(np.ceil(m / batch_size))"
   ]
  },
  {
   "cell_type": "markdown",
   "metadata": {},
   "source": [
    "#### Note: recall ceil is for rounding up integers.\n",
    "## For the execution, feed in mini-batches one by one, provide the value of X and y via feed_dict parameter"
   ]
  },
  {
   "cell_type": "code",
   "execution_count": 44,
   "metadata": {},
   "outputs": [
    {
     "ename": "NameError",
     "evalue": "name 'X_batch' is not defined",
     "output_type": "error",
     "traceback": [
      "\u001b[0;31m---------------------------------------------------------------------------\u001b[0m",
      "\u001b[0;31mNameError\u001b[0m                                 Traceback (most recent call last)",
      "\u001b[0;32m<ipython-input-44-439d0ba3082c>\u001b[0m in \u001b[0;36m<module>\u001b[0;34m\u001b[0m\n\u001b[1;32m     11\u001b[0m     \u001b[0;32mfor\u001b[0m \u001b[0mepoch\u001b[0m \u001b[0;32min\u001b[0m \u001b[0mrange\u001b[0m\u001b[0;34m(\u001b[0m\u001b[0mn_epochs\u001b[0m\u001b[0;34m)\u001b[0m\u001b[0;34m:\u001b[0m\u001b[0;34m\u001b[0m\u001b[0;34m\u001b[0m\u001b[0m\n\u001b[1;32m     12\u001b[0m         \u001b[0;32mfor\u001b[0m \u001b[0mbatch_index\u001b[0m \u001b[0;32min\u001b[0m \u001b[0mrange\u001b[0m\u001b[0;34m(\u001b[0m\u001b[0mn_batches\u001b[0m\u001b[0;34m)\u001b[0m\u001b[0;34m:\u001b[0m\u001b[0;34m\u001b[0m\u001b[0;34m\u001b[0m\u001b[0m\n\u001b[0;32m---> 13\u001b[0;31m             \u001b[0mX_batch\u001b[0m\u001b[0;34m,\u001b[0m \u001b[0my_batch\u001b[0m \u001b[0;34m=\u001b[0m \u001b[0mfetch_batch\u001b[0m\u001b[0;34m(\u001b[0m\u001b[0mepoch\u001b[0m\u001b[0;34m,\u001b[0m \u001b[0mbatch_index\u001b[0m\u001b[0;34m,\u001b[0m \u001b[0mbatch_size\u001b[0m\u001b[0;34m)\u001b[0m\u001b[0;34m\u001b[0m\u001b[0;34m\u001b[0m\u001b[0m\n\u001b[0m\u001b[1;32m     14\u001b[0m             \u001b[0msess\u001b[0m\u001b[0;34m.\u001b[0m\u001b[0mrun\u001b[0m\u001b[0;34m(\u001b[0m\u001b[0mtraining_op\u001b[0m\u001b[0;34m,\u001b[0m \u001b[0mfeed_dict\u001b[0m\u001b[0;34m=\u001b[0m\u001b[0;34m{\u001b[0m\u001b[0mX\u001b[0m\u001b[0;34m:\u001b[0m \u001b[0mX_batch\u001b[0m\u001b[0;34m,\u001b[0m \u001b[0my\u001b[0m\u001b[0;34m:\u001b[0m \u001b[0my_batch\u001b[0m\u001b[0;34m}\u001b[0m\u001b[0;34m)\u001b[0m\u001b[0;34m\u001b[0m\u001b[0;34m\u001b[0m\u001b[0m\n\u001b[1;32m     15\u001b[0m \u001b[0mbest_theta\u001b[0m \u001b[0;34m=\u001b[0m \u001b[0mtheta\u001b[0m\u001b[0;34m.\u001b[0m\u001b[0meval\u001b[0m\u001b[0;34m(\u001b[0m\u001b[0;34m)\u001b[0m\u001b[0;34m\u001b[0m\u001b[0;34m\u001b[0m\u001b[0m\n",
      "\u001b[0;32m<ipython-input-44-439d0ba3082c>\u001b[0m in \u001b[0;36mfetch_batch\u001b[0;34m(epoch, batch_index, batch_size)\u001b[0m\n\u001b[1;32m      5\u001b[0m \u001b[0;32mdef\u001b[0m \u001b[0mfetch_batch\u001b[0m\u001b[0;34m(\u001b[0m\u001b[0mepoch\u001b[0m\u001b[0;34m,\u001b[0m \u001b[0mbatch_index\u001b[0m\u001b[0;34m,\u001b[0m \u001b[0mbatch_size\u001b[0m\u001b[0;34m)\u001b[0m\u001b[0;34m:\u001b[0m\u001b[0;34m\u001b[0m\u001b[0;34m\u001b[0m\u001b[0m\n\u001b[1;32m      6\u001b[0m     \u001b[0;34m[\u001b[0m\u001b[0;34m...\u001b[0m\u001b[0;34m]\u001b[0m \u001b[0;31m# whatever the directory with data would be\u001b[0m\u001b[0;34m\u001b[0m\u001b[0;34m\u001b[0m\u001b[0m\n\u001b[0;32m----> 7\u001b[0;31m     \u001b[0;32mreturn\u001b[0m \u001b[0mX_batch\u001b[0m\u001b[0;34m,\u001b[0m \u001b[0my_batch\u001b[0m\u001b[0;34m\u001b[0m\u001b[0;34m\u001b[0m\u001b[0m\n\u001b[0m\u001b[1;32m      8\u001b[0m \u001b[0;32mwith\u001b[0m \u001b[0mtf\u001b[0m\u001b[0;34m.\u001b[0m\u001b[0mSession\u001b[0m\u001b[0;34m(\u001b[0m\u001b[0;34m)\u001b[0m \u001b[0;32mas\u001b[0m \u001b[0msess\u001b[0m\u001b[0;34m:\u001b[0m\u001b[0;34m\u001b[0m\u001b[0;34m\u001b[0m\u001b[0m\n\u001b[1;32m      9\u001b[0m     \u001b[0msess\u001b[0m\u001b[0;34m.\u001b[0m\u001b[0mrun\u001b[0m\u001b[0;34m(\u001b[0m\u001b[0minit\u001b[0m\u001b[0;34m)\u001b[0m\u001b[0;34m\u001b[0m\u001b[0;34m\u001b[0m\u001b[0m\n",
      "\u001b[0;31mNameError\u001b[0m: name 'X_batch' is not defined"
     ]
    }
   ],
   "source": [
    "X = tf.placeholder(tf.float32, shape=(None, n + 1), name=\"X\")\n",
    "y = tf.placeholder(tf.float32, shape=(None, 1), name=\"y\")\n",
    "batch_size = 5000\n",
    "n_batches = int(np.ceil(m / batch_size))\n",
    "def fetch_batch(epoch, batch_index, batch_size):\n",
    "    [...] # whatever the directory with data would be\n",
    "    return X_batch, y_batch\n",
    "with tf.Session() as sess:\n",
    "    sess.run(init)\n",
    "    \n",
    "    for epoch in range(n_epochs):\n",
    "        for batch_index in range(n_batches):\n",
    "            X_batch, y_batch = fetch_batch(epoch, batch_index, batch_size)\n",
    "            sess.run(training_op, feed_dict={X: X_batch, y: y_batch})\n",
    "best_theta = theta.eval()"
   ]
  },
  {
   "cell_type": "code",
   "execution_count": null,
   "metadata": {},
   "outputs": [],
   "source": []
  }
 ],
 "metadata": {
  "kernelspec": {
   "display_name": "Python 3",
   "language": "python",
   "name": "python3"
  },
  "language_info": {
   "codemirror_mode": {
    "name": "ipython",
    "version": 3
   },
   "file_extension": ".py",
   "mimetype": "text/x-python",
   "name": "python",
   "nbconvert_exporter": "python",
   "pygments_lexer": "ipython3",
   "version": "3.7.3"
  }
 },
 "nbformat": 4,
 "nbformat_minor": 2
}
